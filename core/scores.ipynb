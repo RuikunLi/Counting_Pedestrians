{
 "cells": [
  {
   "cell_type": "code",
   "execution_count": 1,
   "metadata": {
    "ExecuteTime": {
     "end_time": "2018-12-19T10:39:54.539411Z",
     "start_time": "2018-12-19T10:39:51.338503Z"
    }
   },
   "outputs": [],
   "source": [
    "import pandas as pd\n",
    "import numpy as np\n",
    "import os\n",
    "from sklearn.metrics import confusion_matrix\n",
    "from sklearn.metrics import precision_score\n",
    "from sklearn.metrics import recall_score\n",
    "from sklearn.metrics import accuracy_score\n",
    "from sklearn.metrics import f1_score\n",
    "from sklearn.metrics import r2_score"
   ]
  },
  {
   "cell_type": "code",
   "execution_count": 114,
   "metadata": {
    "ExecuteTime": {
     "end_time": "2018-12-19T15:46:06.674388Z",
     "start_time": "2018-12-19T15:46:06.656465Z"
    },
    "code_folding": [
     0
    ]
   },
   "outputs": [],
   "source": [
    "def scores(path_to_data, df_name=\"labeled_data\"):\n",
    "    \"\"\"\n",
    "    only for the dataset\n",
    "    \"\"\"\n",
    "    df = pd.read_csv(path_to_data)\n",
    "\n",
    "    y_true = df[['counted_num']]\n",
    "    y_pred = df[['detected_num']]\n",
    "\n",
    "    label(df, \"counted_num\", \"label_counted\")\n",
    "    label(df, \"detected_num\", \"label_detected\")\n",
    "    issame(df)\n",
    "\n",
    "    y_true_label = df[['label_counted']]\n",
    "    y_pred_label = df[['label_detected']]\n",
    "\n",
    "    accuracy_label = accuracy_score(y_true_label, y_pred_label)\n",
    "    precision_label = precision_score(\n",
    "        y_true_label, y_pred_label, average=\"micro\")\n",
    "    recall_label = recall_score(y_true_label, y_pred_label, average=\"micro\")\n",
    "    f1_label = f1_score(y_true_label, y_pred_label, average=\"micro\")\n",
    "\n",
    "    r2 = r2_score(y_true, y_pred)\n",
    "    accuracy = accuracy_score(y_true, y_pred)\n",
    "    precision = precision_score(y_true, y_pred, average=\"micro\")\n",
    "    recall = recall_score(y_true, y_pred, average=\"micro\")\n",
    "    f1 = f1_score(y_true, y_pred, average=\"micro\")\n",
    "\n",
    "    accuracy_same = len(df[df['label_same'] == 'same']) / len(df)\n",
    "\n",
    "    scores = []\n",
    "    score = [\n",
    "        path_to_data, accuracy, f1, precision, recall, r2, accuracy_label,\n",
    "        f1_label, precision_label, recall_label, accuracy_same\n",
    "    ]\n",
    "    scores.append(score)\n",
    "    scores = pd.DataFrame(\n",
    "        np.array(scores),\n",
    "        columns=[\n",
    "            'path_to_data', 'accuracy', 'f1_score', 'precision_score',\n",
    "            'recall_score', 'r2_score', 'accuracy_with_label', 'f1_with_label',\n",
    "            'precision_with_label', 'recall_with_label', 'accuracy_with_bool'\n",
    "        ])\n",
    "    display(scores.head())\n",
    "\n",
    "    display(df.head())\n",
    "    df.to_csv(path_or_buf=os.path.join(os.getcwd(), \"%s.csv\"%df_name))\n",
    "    return scores"
   ]
  },
  {
   "cell_type": "code",
   "execution_count": 115,
   "metadata": {
    "ExecuteTime": {
     "end_time": "2018-12-19T15:46:07.542816Z",
     "start_time": "2018-12-19T15:46:07.524464Z"
    },
    "code_folding": [
     0
    ]
   },
   "outputs": [],
   "source": [
    "def label(df,target_fearure,label_name):\n",
    "    df_label = df[target_fearure]\n",
    "    label = pd.Series([])\n",
    "    for j in range(len(df)):\n",
    "#         print(len(df))\n",
    "        if df_label[j] <= 5:\n",
    "            label[j] = \"0 - 5\"\n",
    "        elif df_label[j] > 5 and df_label[j] <= 10:\n",
    "            label[j] = \"6 - 10\"\n",
    "        elif df_label[j] > 10 and df_label[j] <= 15:\n",
    "            label[j] = \"11 - 15\"\n",
    "        elif df_label[j] > 15 and df_label[j] <= 20:\n",
    "            label[j] = \"16 - 20\"\n",
    "        elif df_label[j] > 20 and df_label[j] <= 25:\n",
    "            label[j] = \"21 - 25\"\n",
    "        elif df_label[j] > 25 and df_label[j] < 30:\n",
    "            label[j] = \"26 - 29\"\n",
    "        else:\n",
    "            label[j] = \"> 30\"\n",
    "    df.insert(df.shape[1],label_name,label)\n",
    "    return df"
   ]
  },
  {
   "cell_type": "code",
   "execution_count": 116,
   "metadata": {
    "ExecuteTime": {
     "end_time": "2018-12-19T15:46:08.361262Z",
     "start_time": "2018-12-19T15:46:08.348321Z"
    },
    "code_folding": [
     0
    ]
   },
   "outputs": [],
   "source": [
    "def issame(df):\n",
    "    \"\"\"\n",
    "    if the difference between the truth and predicted smaller than 5, we assume they are the same.\n",
    "    \"\"\"\n",
    "    same = pd.Series([])\n",
    "    for j in range(len(df)):\n",
    "        if np.abs(df.iloc[j,2] - df.iloc[j,4]) <= 5:\n",
    "            same[j] = \"same\"\n",
    "        else:\n",
    "            same[j] = \"not same\"\n",
    "\n",
    "    df.insert(df.shape[1], \"label_same\", same) \n",
    "    return df"
   ]
  },
  {
   "cell_type": "code",
   "execution_count": 117,
   "metadata": {
    "ExecuteTime": {
     "end_time": "2018-12-19T15:46:12.479210Z",
     "start_time": "2018-12-19T15:46:11.800528Z"
    }
   },
   "outputs": [
    {
     "data": {
      "text/html": [
       "<div>\n",
       "<style scoped>\n",
       "    .dataframe tbody tr th:only-of-type {\n",
       "        vertical-align: middle;\n",
       "    }\n",
       "\n",
       "    .dataframe tbody tr th {\n",
       "        vertical-align: top;\n",
       "    }\n",
       "\n",
       "    .dataframe thead th {\n",
       "        text-align: right;\n",
       "    }\n",
       "</style>\n",
       "<table border=\"1\" class=\"dataframe\">\n",
       "  <thead>\n",
       "    <tr style=\"text-align: right;\">\n",
       "      <th></th>\n",
       "      <th>path_to_data</th>\n",
       "      <th>accuracy</th>\n",
       "      <th>f1_score</th>\n",
       "      <th>precision_score</th>\n",
       "      <th>recall_score</th>\n",
       "      <th>r2_score</th>\n",
       "      <th>accuracy_with_label</th>\n",
       "      <th>f1_with_label</th>\n",
       "      <th>precision_with_label</th>\n",
       "      <th>recall_with_label</th>\n",
       "      <th>accuracy_with_bool</th>\n",
       "    </tr>\n",
       "  </thead>\n",
       "  <tbody>\n",
       "    <tr>\n",
       "      <th>0</th>\n",
       "      <td>.\\Dublin_day_counted.csv</td>\n",
       "      <td>0.17</td>\n",
       "      <td>0.17</td>\n",
       "      <td>0.17</td>\n",
       "      <td>0.17</td>\n",
       "      <td>0.3460979783508439</td>\n",
       "      <td>0.42</td>\n",
       "      <td>0.41999999999999993</td>\n",
       "      <td>0.42</td>\n",
       "      <td>0.42</td>\n",
       "      <td>0.56</td>\n",
       "    </tr>\n",
       "  </tbody>\n",
       "</table>\n",
       "</div>"
      ],
      "text/plain": [
       "               path_to_data accuracy f1_score precision_score recall_score  \\\n",
       "0  .\\Dublin_day_counted.csv     0.17     0.17            0.17         0.17   \n",
       "\n",
       "             r2_score accuracy_with_label        f1_with_label  \\\n",
       "0  0.3460979783508439                0.42  0.41999999999999993   \n",
       "\n",
       "  precision_with_label recall_with_label accuracy_with_bool  \n",
       "0                 0.42              0.42               0.56  "
      ]
     },
     "metadata": {},
     "output_type": "display_data"
    },
    {
     "data": {
      "text/html": [
       "<div>\n",
       "<style scoped>\n",
       "    .dataframe tbody tr th:only-of-type {\n",
       "        vertical-align: middle;\n",
       "    }\n",
       "\n",
       "    .dataframe tbody tr th {\n",
       "        vertical-align: top;\n",
       "    }\n",
       "\n",
       "    .dataframe thead th {\n",
       "        text-align: right;\n",
       "    }\n",
       "</style>\n",
       "<table border=\"1\" class=\"dataframe\">\n",
       "  <thead>\n",
       "    <tr style=\"text-align: right;\">\n",
       "      <th></th>\n",
       "      <th>Unnamed: 0</th>\n",
       "      <th>image_name</th>\n",
       "      <th>detected_num</th>\n",
       "      <th>time</th>\n",
       "      <th>counted_num</th>\n",
       "      <th>label_counted</th>\n",
       "      <th>label_detected</th>\n",
       "      <th>label_same</th>\n",
       "    </tr>\n",
       "  </thead>\n",
       "  <tbody>\n",
       "    <tr>\n",
       "      <th>0</th>\n",
       "      <td>0</td>\n",
       "      <td>Dublin_day0.png</td>\n",
       "      <td>1</td>\n",
       "      <td>Sat 2018-12-15 10:03:07</td>\n",
       "      <td>2</td>\n",
       "      <td>0 - 5</td>\n",
       "      <td>0 - 5</td>\n",
       "      <td>same</td>\n",
       "    </tr>\n",
       "    <tr>\n",
       "      <th>1</th>\n",
       "      <td>1</td>\n",
       "      <td>Dublin_day1.png</td>\n",
       "      <td>2</td>\n",
       "      <td>Sat 2018-12-15 10:06:16</td>\n",
       "      <td>3</td>\n",
       "      <td>0 - 5</td>\n",
       "      <td>0 - 5</td>\n",
       "      <td>same</td>\n",
       "    </tr>\n",
       "    <tr>\n",
       "      <th>2</th>\n",
       "      <td>2</td>\n",
       "      <td>Dublin_day2.png</td>\n",
       "      <td>1</td>\n",
       "      <td>Sat 2018-12-15 10:09:22</td>\n",
       "      <td>1</td>\n",
       "      <td>0 - 5</td>\n",
       "      <td>0 - 5</td>\n",
       "      <td>same</td>\n",
       "    </tr>\n",
       "    <tr>\n",
       "      <th>3</th>\n",
       "      <td>3</td>\n",
       "      <td>Dublin_day3.png</td>\n",
       "      <td>0</td>\n",
       "      <td>Sat 2018-12-15 10:12:29</td>\n",
       "      <td>2</td>\n",
       "      <td>0 - 5</td>\n",
       "      <td>0 - 5</td>\n",
       "      <td>same</td>\n",
       "    </tr>\n",
       "    <tr>\n",
       "      <th>4</th>\n",
       "      <td>4</td>\n",
       "      <td>Dublin_day4.png</td>\n",
       "      <td>3</td>\n",
       "      <td>Sat 2018-12-15 10:15:34</td>\n",
       "      <td>6</td>\n",
       "      <td>6 - 10</td>\n",
       "      <td>0 - 5</td>\n",
       "      <td>same</td>\n",
       "    </tr>\n",
       "  </tbody>\n",
       "</table>\n",
       "</div>"
      ],
      "text/plain": [
       "   Unnamed: 0       image_name  detected_num                     time  \\\n",
       "0           0  Dublin_day0.png             1  Sat 2018-12-15 10:03:07   \n",
       "1           1  Dublin_day1.png             2  Sat 2018-12-15 10:06:16   \n",
       "2           2  Dublin_day2.png             1  Sat 2018-12-15 10:09:22   \n",
       "3           3  Dublin_day3.png             0  Sat 2018-12-15 10:12:29   \n",
       "4           4  Dublin_day4.png             3  Sat 2018-12-15 10:15:34   \n",
       "\n",
       "   counted_num label_counted label_detected label_same  \n",
       "0            2         0 - 5          0 - 5       same  \n",
       "1            3         0 - 5          0 - 5       same  \n",
       "2            1         0 - 5          0 - 5       same  \n",
       "3            2         0 - 5          0 - 5       same  \n",
       "4            6        6 - 10          0 - 5       same  "
      ]
     },
     "metadata": {},
     "output_type": "display_data"
    }
   ],
   "source": [
    "s1 = scores(\".\\Dublin_day_counted.csv\",\"labeled_dublin_day\")"
   ]
  },
  {
   "cell_type": "code",
   "execution_count": 118,
   "metadata": {
    "ExecuteTime": {
     "end_time": "2018-12-19T15:46:14.262277Z",
     "start_time": "2018-12-19T15:46:13.343582Z"
    }
   },
   "outputs": [
    {
     "data": {
      "text/html": [
       "<div>\n",
       "<style scoped>\n",
       "    .dataframe tbody tr th:only-of-type {\n",
       "        vertical-align: middle;\n",
       "    }\n",
       "\n",
       "    .dataframe tbody tr th {\n",
       "        vertical-align: top;\n",
       "    }\n",
       "\n",
       "    .dataframe thead th {\n",
       "        text-align: right;\n",
       "    }\n",
       "</style>\n",
       "<table border=\"1\" class=\"dataframe\">\n",
       "  <thead>\n",
       "    <tr style=\"text-align: right;\">\n",
       "      <th></th>\n",
       "      <th>path_to_data</th>\n",
       "      <th>accuracy</th>\n",
       "      <th>f1_score</th>\n",
       "      <th>precision_score</th>\n",
       "      <th>recall_score</th>\n",
       "      <th>r2_score</th>\n",
       "      <th>accuracy_with_label</th>\n",
       "      <th>f1_with_label</th>\n",
       "      <th>precision_with_label</th>\n",
       "      <th>recall_with_label</th>\n",
       "      <th>accuracy_with_bool</th>\n",
       "    </tr>\n",
       "  </thead>\n",
       "  <tbody>\n",
       "    <tr>\n",
       "      <th>0</th>\n",
       "      <td>.\\Dublin_night_counted.csv</td>\n",
       "      <td>0.0</td>\n",
       "      <td>0.0</td>\n",
       "      <td>0.0</td>\n",
       "      <td>0.0</td>\n",
       "      <td>-1.1623815924270295</td>\n",
       "      <td>0.1</td>\n",
       "      <td>0.10000000000000002</td>\n",
       "      <td>0.1</td>\n",
       "      <td>0.1</td>\n",
       "      <td>0.39</td>\n",
       "    </tr>\n",
       "  </tbody>\n",
       "</table>\n",
       "</div>"
      ],
      "text/plain": [
       "                 path_to_data accuracy f1_score precision_score recall_score  \\\n",
       "0  .\\Dublin_night_counted.csv      0.0      0.0             0.0          0.0   \n",
       "\n",
       "              r2_score accuracy_with_label        f1_with_label  \\\n",
       "0  -1.1623815924270295                 0.1  0.10000000000000002   \n",
       "\n",
       "  precision_with_label recall_with_label accuracy_with_bool  \n",
       "0                  0.1               0.1               0.39  "
      ]
     },
     "metadata": {},
     "output_type": "display_data"
    },
    {
     "data": {
      "text/html": [
       "<div>\n",
       "<style scoped>\n",
       "    .dataframe tbody tr th:only-of-type {\n",
       "        vertical-align: middle;\n",
       "    }\n",
       "\n",
       "    .dataframe tbody tr th {\n",
       "        vertical-align: top;\n",
       "    }\n",
       "\n",
       "    .dataframe thead th {\n",
       "        text-align: right;\n",
       "    }\n",
       "</style>\n",
       "<table border=\"1\" class=\"dataframe\">\n",
       "  <thead>\n",
       "    <tr style=\"text-align: right;\">\n",
       "      <th></th>\n",
       "      <th>Unnamed: 0</th>\n",
       "      <th>image_name</th>\n",
       "      <th>detected_num</th>\n",
       "      <th>time</th>\n",
       "      <th>counted_num</th>\n",
       "      <th>label_counted</th>\n",
       "      <th>label_detected</th>\n",
       "      <th>label_same</th>\n",
       "    </tr>\n",
       "  </thead>\n",
       "  <tbody>\n",
       "    <tr>\n",
       "      <th>0</th>\n",
       "      <td>0</td>\n",
       "      <td>Dublin_night0.png</td>\n",
       "      <td>8</td>\n",
       "      <td>Fri 2018-12-14 20:11:49</td>\n",
       "      <td>42</td>\n",
       "      <td>&gt; 30</td>\n",
       "      <td>6 - 10</td>\n",
       "      <td>not same</td>\n",
       "    </tr>\n",
       "    <tr>\n",
       "      <th>1</th>\n",
       "      <td>1</td>\n",
       "      <td>Dublin_night1.png</td>\n",
       "      <td>15</td>\n",
       "      <td>Fri 2018-12-14 20:15:01</td>\n",
       "      <td>38</td>\n",
       "      <td>&gt; 30</td>\n",
       "      <td>11 - 15</td>\n",
       "      <td>not same</td>\n",
       "    </tr>\n",
       "    <tr>\n",
       "      <th>2</th>\n",
       "      <td>2</td>\n",
       "      <td>Dublin_night2.png</td>\n",
       "      <td>19</td>\n",
       "      <td>Fri 2018-12-14 20:18:11</td>\n",
       "      <td>30</td>\n",
       "      <td>&gt; 30</td>\n",
       "      <td>16 - 20</td>\n",
       "      <td>not same</td>\n",
       "    </tr>\n",
       "    <tr>\n",
       "      <th>3</th>\n",
       "      <td>3</td>\n",
       "      <td>Dublin_night3.png</td>\n",
       "      <td>16</td>\n",
       "      <td>Fri 2018-12-14 20:21:22</td>\n",
       "      <td>36</td>\n",
       "      <td>&gt; 30</td>\n",
       "      <td>16 - 20</td>\n",
       "      <td>not same</td>\n",
       "    </tr>\n",
       "    <tr>\n",
       "      <th>4</th>\n",
       "      <td>4</td>\n",
       "      <td>Dublin_night4.png</td>\n",
       "      <td>15</td>\n",
       "      <td>Fri 2018-12-14 20:24:29</td>\n",
       "      <td>32</td>\n",
       "      <td>&gt; 30</td>\n",
       "      <td>11 - 15</td>\n",
       "      <td>not same</td>\n",
       "    </tr>\n",
       "  </tbody>\n",
       "</table>\n",
       "</div>"
      ],
      "text/plain": [
       "   Unnamed: 0         image_name  detected_num                     time  \\\n",
       "0           0  Dublin_night0.png             8  Fri 2018-12-14 20:11:49   \n",
       "1           1  Dublin_night1.png            15  Fri 2018-12-14 20:15:01   \n",
       "2           2  Dublin_night2.png            19  Fri 2018-12-14 20:18:11   \n",
       "3           3  Dublin_night3.png            16  Fri 2018-12-14 20:21:22   \n",
       "4           4  Dublin_night4.png            15  Fri 2018-12-14 20:24:29   \n",
       "\n",
       "   counted_num label_counted label_detected label_same  \n",
       "0           42          > 30         6 - 10   not same  \n",
       "1           38          > 30        11 - 15   not same  \n",
       "2           30          > 30        16 - 20   not same  \n",
       "3           36          > 30        16 - 20   not same  \n",
       "4           32          > 30        11 - 15   not same  "
      ]
     },
     "metadata": {},
     "output_type": "display_data"
    }
   ],
   "source": [
    "s2 = scores(\".\\Dublin_night_counted.csv\",\"labeled_dublin_night\")"
   ]
  },
  {
   "cell_type": "code",
   "execution_count": 119,
   "metadata": {
    "ExecuteTime": {
     "end_time": "2018-12-19T15:46:15.171343Z",
     "start_time": "2018-12-19T15:46:15.156463Z"
    }
   },
   "outputs": [],
   "source": [
    "s = s1.append(s2)"
   ]
  },
  {
   "cell_type": "code",
   "execution_count": 120,
   "metadata": {
    "ExecuteTime": {
     "end_time": "2018-12-19T15:46:17.075643Z",
     "start_time": "2018-12-19T15:46:17.048363Z"
    }
   },
   "outputs": [
    {
     "data": {
      "text/html": [
       "<div>\n",
       "<style scoped>\n",
       "    .dataframe tbody tr th:only-of-type {\n",
       "        vertical-align: middle;\n",
       "    }\n",
       "\n",
       "    .dataframe tbody tr th {\n",
       "        vertical-align: top;\n",
       "    }\n",
       "\n",
       "    .dataframe thead th {\n",
       "        text-align: right;\n",
       "    }\n",
       "</style>\n",
       "<table border=\"1\" class=\"dataframe\">\n",
       "  <thead>\n",
       "    <tr style=\"text-align: right;\">\n",
       "      <th></th>\n",
       "      <th>path_to_data</th>\n",
       "      <th>accuracy</th>\n",
       "      <th>f1_score</th>\n",
       "      <th>precision_score</th>\n",
       "      <th>recall_score</th>\n",
       "      <th>r2_score</th>\n",
       "      <th>accuracy_with_label</th>\n",
       "      <th>f1_with_label</th>\n",
       "      <th>precision_with_label</th>\n",
       "      <th>recall_with_label</th>\n",
       "      <th>accuracy_with_bool</th>\n",
       "    </tr>\n",
       "  </thead>\n",
       "  <tbody>\n",
       "    <tr>\n",
       "      <th>0</th>\n",
       "      <td>.\\Dublin_day_counted.csv</td>\n",
       "      <td>0.17</td>\n",
       "      <td>0.17</td>\n",
       "      <td>0.17</td>\n",
       "      <td>0.17</td>\n",
       "      <td>0.3460979783508439</td>\n",
       "      <td>0.42</td>\n",
       "      <td>0.41999999999999993</td>\n",
       "      <td>0.42</td>\n",
       "      <td>0.42</td>\n",
       "      <td>0.56</td>\n",
       "    </tr>\n",
       "    <tr>\n",
       "      <th>0</th>\n",
       "      <td>.\\Dublin_night_counted.csv</td>\n",
       "      <td>0.0</td>\n",
       "      <td>0.0</td>\n",
       "      <td>0.0</td>\n",
       "      <td>0.0</td>\n",
       "      <td>-1.1623815924270295</td>\n",
       "      <td>0.1</td>\n",
       "      <td>0.10000000000000002</td>\n",
       "      <td>0.1</td>\n",
       "      <td>0.1</td>\n",
       "      <td>0.39</td>\n",
       "    </tr>\n",
       "  </tbody>\n",
       "</table>\n",
       "</div>"
      ],
      "text/plain": [
       "                 path_to_data accuracy f1_score precision_score recall_score  \\\n",
       "0    .\\Dublin_day_counted.csv     0.17     0.17            0.17         0.17   \n",
       "0  .\\Dublin_night_counted.csv      0.0      0.0             0.0          0.0   \n",
       "\n",
       "              r2_score accuracy_with_label        f1_with_label  \\\n",
       "0   0.3460979783508439                0.42  0.41999999999999993   \n",
       "0  -1.1623815924270295                 0.1  0.10000000000000002   \n",
       "\n",
       "  precision_with_label recall_with_label accuracy_with_bool  \n",
       "0                 0.42              0.42               0.56  \n",
       "0                  0.1               0.1               0.39  "
      ]
     },
     "execution_count": 120,
     "metadata": {},
     "output_type": "execute_result"
    }
   ],
   "source": [
    "s"
   ]
  },
  {
   "cell_type": "code",
   "execution_count": 121,
   "metadata": {
    "ExecuteTime": {
     "end_time": "2018-12-19T15:46:18.089834Z",
     "start_time": "2018-12-19T15:46:18.077844Z"
    }
   },
   "outputs": [],
   "source": [
    "s.to_csv(path_or_buf=os.path.join(os.getcwd(), \"dublin_scores.csv\"))"
   ]
  },
  {
   "cell_type": "code",
   "execution_count": null,
   "metadata": {},
   "outputs": [],
   "source": []
  }
 ],
 "metadata": {
  "kernelspec": {
   "display_name": "Python 3",
   "language": "python",
   "name": "python3"
  },
  "language_info": {
   "codemirror_mode": {
    "name": "ipython",
    "version": 3
   },
   "file_extension": ".py",
   "mimetype": "text/x-python",
   "name": "python",
   "nbconvert_exporter": "python",
   "pygments_lexer": "ipython3",
   "version": "3.6.5"
  },
  "varInspector": {
   "cols": {
    "lenName": 16,
    "lenType": 16,
    "lenVar": 40
   },
   "kernels_config": {
    "python": {
     "delete_cmd_postfix": "",
     "delete_cmd_prefix": "del ",
     "library": "var_list.py",
     "varRefreshCmd": "print(var_dic_list())"
    },
    "r": {
     "delete_cmd_postfix": ") ",
     "delete_cmd_prefix": "rm(",
     "library": "var_list.r",
     "varRefreshCmd": "cat(var_dic_list()) "
    }
   },
   "types_to_exclude": [
    "module",
    "function",
    "builtin_function_or_method",
    "instance",
    "_Feature"
   ],
   "window_display": false
  }
 },
 "nbformat": 4,
 "nbformat_minor": 2
}
