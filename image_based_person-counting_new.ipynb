{
 "cells": [
  {
   "cell_type": "code",
   "execution_count": 9,
   "metadata": {},
   "outputs": [],
   "source": [
    "from imageai.Detection import ObjectDetection\n",
    "import os\n",
    "from time import time\n",
    "\n",
    "execution_path = os.getcwd()\n",
    "detector = ObjectDetection()\n",
    "\n",
    "def resnet():\n",
    "    detector.setModelTypeAsRetinaNet()\n",
    "    detector.setModelPath( os.path.join(execution_path , \"resnet50_coco_best_v2.0.1.h5\"))\n",
    "    print(\"rn\")\n",
    "def yolo():\n",
    "    detector.setModelTypeAsYOLOv3()\n",
    "    detector.setModelPath( os.path.join(execution_path , \"yolo.h5\"))\n",
    "    print(\"yolo\")\n",
    "def yolo_tiny():\n",
    "    detector.setModelTypeAsTinyYOLOv3()\n",
    "    detector.setModelPath( os.path.join(execution_path , \"yolo-tiny.h5\"))\n",
    "    print(\"yolot\")\n",
    "    "
   ]
  },
  {
   "cell_type": "code",
   "execution_count": 91,
   "metadata": {},
   "outputs": [],
   "source": [
    "def image_person_counting(iim,oim,algo,speed,mpp):\n",
    "    from time import time\n",
    "    if algo == resnet:\n",
    "        resnet()\n",
    "    elif algo == yolo:\n",
    "        yolo()\n",
    "    elif algo == yolo_tiny:\n",
    "        yolo_tiny()\n",
    "\n",
    "    detector.loadModel(detection_speed=speed)\n",
    "\n",
    "\n",
    "    count = 0\n",
    "    custom_objects = detector.CustomObjects(person=True)\n",
    "    detections = detector.detectCustomObjectsFromImage(custom_objects=custom_objects,input_image=os.path.join(execution_path , iim), output_image_path=os.path.join(execution_path , oim), minimum_percentage_probability=mpp)\n",
    "\n",
    "    print(\"IT TOOK : \", time() - our_time)\n",
    "    for eachObject in detections:\n",
    "        print(eachObject[\"name\"] , \" : \" , eachObject[\"percentage_probability\"], \" : \", eachObject[\"box_points\"]  )\n",
    "        print(\"--------------------------------\")\n",
    "        count = count + 1\n",
    "    print (\"the number of person is \", count)\n"
   ]
  },
  {
   "cell_type": "code",
   "execution_count": 92,
   "metadata": {},
   "outputs": [
    {
     "name": "stdout",
     "output_type": "stream",
     "text": [
      "yolot\n",
      "IT TOOK :  648.4035677909851\n",
      "person  :  98.03380370140076  :  (531, 1310, 820, 1526)\n",
      "--------------------------------\n",
      "person  :  98.24315905570984  :  (944, 1326, 1152, 1530)\n",
      "--------------------------------\n",
      "person  :  98.82418513298035  :  (6, 769, 192, 1014)\n",
      "--------------------------------\n",
      "person  :  98.8825261592865  :  (0, 1062, 195, 1274)\n",
      "--------------------------------\n",
      "person  :  98.94635081291199  :  (750, 1321, 975, 1524)\n",
      "--------------------------------\n",
      "person  :  98.9597737789154  :  (3, 1306, 191, 1520)\n",
      "--------------------------------\n",
      "person  :  99.00170564651489  :  (570, 275, 764, 508)\n",
      "--------------------------------\n",
      "person  :  99.03970956802368  :  (356, 786, 579, 1009)\n",
      "--------------------------------\n",
      "person  :  99.18460249900818  :  (170, 1065, 424, 1254)\n",
      "--------------------------------\n",
      "person  :  99.21088218688965  :  (567, 511, 730, 753)\n",
      "--------------------------------\n",
      "person  :  99.21382665634155  :  (1, 532, 185, 780)\n",
      "--------------------------------\n",
      "person  :  99.22125935554504  :  (734, 41, 954, 231)\n",
      "--------------------------------\n",
      "person  :  99.31020736694336  :  (386, 507, 562, 754)\n",
      "--------------------------------\n",
      "person  :  99.40469264984131  :  (150, 1305, 371, 1524)\n",
      "--------------------------------\n",
      "person  :  99.4141161441803  :  (761, 277, 956, 488)\n",
      "--------------------------------\n",
      "person  :  99.62594509124756  :  (176, 550, 376, 752)\n",
      "--------------------------------\n",
      "person  :  99.66374039649963  :  (942, 1070, 1150, 1264)\n",
      "--------------------------------\n",
      "person  :  99.6705412864685  :  (186, 780, 386, 1028)\n",
      "--------------------------------\n",
      "person  :  99.69319701194763  :  (969, 39, 1143, 253)\n",
      "--------------------------------\n",
      "person  :  99.72043037414551  :  (970, 288, 1152, 510)\n",
      "--------------------------------\n",
      "the number of person is  20\n"
     ]
    }
   ],
   "source": [
    "\n",
    "image_person_counting(\"im1.jpg\",\"im_yolot.jpg\",yolo_tiny,\"fast\",30)"
   ]
  },
  {
   "cell_type": "code",
   "execution_count": null,
   "metadata": {},
   "outputs": [],
   "source": []
  }
 ],
 "metadata": {
  "kernelspec": {
   "display_name": "Python 3",
   "language": "python",
   "name": "python3"
  },
  "language_info": {
   "codemirror_mode": {
    "name": "ipython",
    "version": 3
   },
   "file_extension": ".py",
   "mimetype": "text/x-python",
   "name": "python",
   "nbconvert_exporter": "python",
   "pygments_lexer": "ipython3",
   "version": "3.6.5"
  }
 },
 "nbformat": 4,
 "nbformat_minor": 2
}
